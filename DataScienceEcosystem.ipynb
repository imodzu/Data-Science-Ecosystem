{
 "cells": [
  {
   "cell_type": "markdown",
   "id": "d3d13662-1243-4724-9ee1-78deb11dc582",
   "metadata": {},
   "source": [
    "# Data Science Tools and Ecosystem"
   ]
  },
  {
   "cell_type": "markdown",
   "id": "6b4a6dc0-e5bd-4da0-8073-f3321251baf8",
   "metadata": {},
   "source": [
    "in this notebook, Data Science Tools and Ecosystem are summarized."
   ]
  },
  {
   "cell_type": "markdown",
   "id": "0837caef-cc05-467f-a242-354e8bc776d2",
   "metadata": {},
   "source": [
    " **Objectives:**\n",
    "\n",
    "* List popular languages for Data Scientist\n",
    "* Identify commonly used libraries used by Data Scientist\n",
    "* Indicate Data Science Tools"
   ]
  },
  {
   "cell_type": "markdown",
   "id": "a9654551-bba1-4238-8d79-10a7e7227d2d",
   "metadata": {},
   "source": [
    "Some of the popular Languages that Data Scientists use are:"
   ]
  },
  {
   "cell_type": "markdown",
   "id": "95d1781b-2467-4796-9c86-fce29c4eaeab",
   "metadata": {},
   "source": [
    "1. Python\n",
    "2. SQL\n",
    "3. R\n",
    "4. Java\n",
    "5. Julia"
   ]
  },
  {
   "cell_type": "markdown",
   "id": "a44a1d08-0ae2-42dc-8af8-e88dd82f91cd",
   "metadata": {},
   "source": [
    "Some of the commonly used libraries used by Data Scientist include:"
   ]
  },
  {
   "cell_type": "markdown",
   "id": "dfd170e1-a0ed-4ee2-acb6-1c9dfcaab520",
   "metadata": {},
   "source": [
    "1. NumPy\n",
    "2. Pandas\n",
    "3. Matplotlib"
   ]
  },
  {
   "cell_type": "markdown",
   "id": "746982db-c517-4cf2-aef8-9b04a2141d8e",
   "metadata": {},
   "source": [
    "| Data Science Tools |\n",
    "|--------------------|\n",
    "| Jupyter Notebooks|\n",
    "| RStudio|\n",
    "| Spyder |"
   ]
  },
  {
   "cell_type": "markdown",
   "id": "b081de3d-ad58-4c08-a763-9bc1a9c1feb3",
   "metadata": {},
   "source": [
    "### Below are a few examples of evaluating Arithmetic expressions in Python."
   ]
  },
  {
   "cell_type": "code",
   "execution_count": 31,
   "id": "43a8c429-5211-4130-8059-dfa8e2d08a98",
   "metadata": {},
   "outputs": [
    {
     "data": {
      "text/plain": [
       "17"
      ]
     },
     "execution_count": 31,
     "metadata": {},
     "output_type": "execute_result"
    }
   ],
   "source": [
    "# this a simple arithmetic expression to multiply then add intergers\n",
    "(3*4)+5"
   ]
  },
  {
   "cell_type": "code",
   "execution_count": 33,
   "id": "1e6c29b0-0cce-48bb-a456-0d4fe6f1b02a",
   "metadata": {},
   "outputs": [
    {
     "data": {
      "text/plain": [
       "3.3333333333333335"
      ]
     },
     "execution_count": 33,
     "metadata": {},
     "output_type": "execute_result"
    }
   ],
   "source": [
    "# this will convert 200 minutes to hours by dividing by 60\n",
    "200/60"
   ]
  },
  {
   "cell_type": "markdown",
   "id": "0156bf49-7897-4824-83bd-b8c0d32a4b68",
   "metadata": {},
   "source": [
    "## Author\n",
    "Cody Brown"
   ]
  },
  {
   "cell_type": "code",
   "execution_count": null,
   "id": "6ef986cb-f83e-4e13-8a7c-0c1365e05d15",
   "metadata": {},
   "outputs": [],
   "source": []
  }
 ],
 "metadata": {
  "kernelspec": {
   "display_name": "Python 3 (ipykernel)",
   "language": "python",
   "name": "python3"
  },
  "language_info": {
   "codemirror_mode": {
    "name": "ipython",
    "version": 3
   },
   "file_extension": ".py",
   "mimetype": "text/x-python",
   "name": "python",
   "nbconvert_exporter": "python",
   "pygments_lexer": "ipython3",
   "version": "3.11.7"
  }
 },
 "nbformat": 4,
 "nbformat_minor": 5
}
